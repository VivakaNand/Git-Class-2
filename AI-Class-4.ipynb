{
 "cells": [
  {
   "cell_type": "markdown",
   "metadata": {},
   "source": [
    "# Dictionary Function\n",
    "\n",
    "- Methods\n",
    "- Attributes\n",
    "- Extract values from dictionary"
   ]
  },
  {
   "cell_type": "markdown",
   "metadata": {},
   "source": [
    "# User Define Functuon\n",
    "- default funnction\n",
    "- request arguments functions\n",
    "- optional arguments functions\n",
    "- pass arguments with values and key=values"
   ]
  },
  {
   "cell_type": "code",
   "execution_count": 1,
   "metadata": {},
   "outputs": [
    {
     "name": "stdout",
     "output_type": "stream",
     "text": [
      "vivek vishan 03412934930 0001\n"
     ]
    }
   ],
   "source": [
    "l1 = [\"vivek\",\"vishan\",\"03412934930\",\"0001\"]\n",
    "#all elements are stored with index number\n",
    "#0=name\n",
    "#1=father\n",
    "#2=cell\n",
    "#3=id\n",
    "print(l1[0], l1[1], l1[2], l1[3])"
   ]
  },
  {
   "cell_type": "code",
   "execution_count": 2,
   "metadata": {},
   "outputs": [
    {
     "name": "stdout",
     "output_type": "stream",
     "text": [
      "vivek vishan 03412934930 0001\n"
     ]
    }
   ],
   "source": [
    "print(*l1) #Unzip ek ek argument or element ko print kari ga"
   ]
  },
  {
   "cell_type": "markdown",
   "metadata": {},
   "source": [
    "# Dictionary"
   ]
  },
  {
   "cell_type": "code",
   "execution_count": 5,
   "metadata": {},
   "outputs": [
    {
     "data": {
      "text/plain": [
       "{'age': 50,\n",
       " 'cell': '03412934930',\n",
       " 'fname': 'vishan',\n",
       " 'id': '0001',\n",
       " 'name': 'Vivek'}"
      ]
     },
     "execution_count": 5,
     "metadata": {},
     "output_type": "execute_result"
    }
   ],
   "source": [
    "#item = key:value(pair)\n",
    "obj1 = {\n",
    "    'name' : 'Vivek',\n",
    "    'fname' : 'vishan',\n",
    "    'cell' : '03412934930',\n",
    "    'id' : '0001',\n",
    "    'age' : 50,\n",
    "}\n",
    "\n",
    "obj1"
   ]
  },
  {
   "cell_type": "code",
   "execution_count": 6,
   "metadata": {},
   "outputs": [
    {
     "ename": "NameError",
     "evalue": "name 'obg1' is not defined",
     "output_type": "error",
     "traceback": [
      "\u001b[1;31m---------------------------------------------------------------------------\u001b[0m",
      "\u001b[1;31mNameError\u001b[0m                                 Traceback (most recent call last)",
      "\u001b[1;32m<ipython-input-6-c24272744d3e>\u001b[0m in \u001b[0;36m<module>\u001b[1;34m()\u001b[0m\n\u001b[1;32m----> 1\u001b[1;33m \u001b[0mobg1\u001b[0m\u001b[1;33m[\u001b[0m\u001b[1;36m0\u001b[0m\u001b[1;33m]\u001b[0m\u001b[1;33m\u001b[0m\u001b[0m\n\u001b[0m",
      "\u001b[1;31mNameError\u001b[0m: name 'obg1' is not defined"
     ]
    }
   ],
   "source": [
    "obg1[0]"
   ]
  },
  {
   "cell_type": "code",
   "execution_count": 7,
   "metadata": {},
   "outputs": [
    {
     "data": {
      "text/plain": [
       "'Vivek'"
      ]
     },
     "execution_count": 7,
     "metadata": {},
     "output_type": "execute_result"
    }
   ],
   "source": [
    "obj1['name']"
   ]
  },
  {
   "cell_type": "code",
   "execution_count": 8,
   "metadata": {},
   "outputs": [
    {
     "data": {
      "text/plain": [
       "'vishan'"
      ]
     },
     "execution_count": 8,
     "metadata": {},
     "output_type": "execute_result"
    }
   ],
   "source": [
    "obj1['fname']"
   ]
  },
  {
   "cell_type": "code",
   "execution_count": 9,
   "metadata": {},
   "outputs": [
    {
     "data": {
      "text/plain": [
       "'03412934930'"
      ]
     },
     "execution_count": 9,
     "metadata": {},
     "output_type": "execute_result"
    }
   ],
   "source": [
    "obj1['cell']"
   ]
  },
  {
   "cell_type": "code",
   "execution_count": 10,
   "metadata": {},
   "outputs": [
    {
     "data": {
      "text/plain": [
       "'0001'"
      ]
     },
     "execution_count": 10,
     "metadata": {},
     "output_type": "execute_result"
    }
   ],
   "source": [
    "obj1['id']"
   ]
  },
  {
   "cell_type": "code",
   "execution_count": 11,
   "metadata": {},
   "outputs": [
    {
     "data": {
      "text/plain": [
       "{0: 'pakistan zinda bad',\n",
       " 'age': '50',\n",
       " 'cell': '03412934930',\n",
       " 'fname': 'vishan',\n",
       " 'id': '0001',\n",
       " 'name': 'Vivek'}"
      ]
     },
     "execution_count": 11,
     "metadata": {},
     "output_type": "execute_result"
    }
   ],
   "source": [
    "#element = key:value(pair)\n",
    "#key - string, integer\n",
    "obj1 = {\n",
    "    'name' : 'Vivek',\n",
    "    'fname' : 'vishan',\n",
    "    'cell' : '03412934930',\n",
    "    'id' : '0001',\n",
    "    'age' : '50',\n",
    "    0 : 'pakistan zinda bad'\n",
    "}\n",
    "obj1"
   ]
  },
  {
   "cell_type": "code",
   "execution_count": 12,
   "metadata": {},
   "outputs": [
    {
     "data": {
      "text/plain": [
       "'pakistan zinda bad'"
      ]
     },
     "execution_count": 12,
     "metadata": {},
     "output_type": "execute_result"
    }
   ],
   "source": [
    "obj1[0]"
   ]
  },
  {
   "cell_type": "code",
   "execution_count": 13,
   "metadata": {},
   "outputs": [
    {
     "ename": "TypeError",
     "evalue": "unhashable type: 'list'",
     "output_type": "error",
     "traceback": [
      "\u001b[1;31m---------------------------------------------------------------------------\u001b[0m",
      "\u001b[1;31mTypeError\u001b[0m                                 Traceback (most recent call last)",
      "\u001b[1;32m<ipython-input-13-14078f6124f1>\u001b[0m in \u001b[0;36m<module>\u001b[1;34m()\u001b[0m\n\u001b[0;32m      8\u001b[0m     \u001b[1;34m'age'\u001b[0m \u001b[1;33m:\u001b[0m \u001b[1;34m'50'\u001b[0m\u001b[1;33m,\u001b[0m\u001b[1;33m\u001b[0m\u001b[0m\n\u001b[0;32m      9\u001b[0m     \u001b[1;36m0\u001b[0m \u001b[1;33m:\u001b[0m \u001b[1;34m'pakistan zinda bad'\u001b[0m\u001b[1;33m,\u001b[0m\u001b[1;33m\u001b[0m\u001b[0m\n\u001b[1;32m---> 10\u001b[1;33m     \u001b[1;33m[\u001b[0m\u001b[1;34m'abc'\u001b[0m\u001b[1;33m]\u001b[0m \u001b[1;33m:\u001b[0m \u001b[1;34m'hello world'\u001b[0m\u001b[1;33m\u001b[0m\u001b[0m\n\u001b[0m\u001b[0;32m     11\u001b[0m }\n\u001b[0;32m     12\u001b[0m \u001b[0mobj1\u001b[0m\u001b[1;33m[\u001b[0m\u001b[1;36m0\u001b[0m\u001b[1;33m]\u001b[0m\u001b[1;33m\u001b[0m\u001b[0m\n",
      "\u001b[1;31mTypeError\u001b[0m: unhashable type: 'list'"
     ]
    }
   ],
   "source": [
    "#element = key:value(pair)\n",
    "#key - string, integer\n",
    "obj1 = {\n",
    "    'name' : 'Vivek',\n",
    "    'fname' : 'vishan',\n",
    "    'cell' : '03412934930',\n",
    "    'id' : '0001',\n",
    "    'age' : '50',\n",
    "    0 : 'pakistan zinda bad',\n",
    "    ['abc'] : 'hello world'\n",
    "}\n",
    "obj1[0]"
   ]
  },
  {
   "cell_type": "code",
   "execution_count": 14,
   "metadata": {},
   "outputs": [
    {
     "data": {
      "text/plain": [
       "'pakistan zinda bad'"
      ]
     },
     "execution_count": 14,
     "metadata": {},
     "output_type": "execute_result"
    }
   ],
   "source": [
    "#element = key:value(pair)\n",
    "#key - string, integer\n",
    "obj1 = {\n",
    "    'name' : 'Vivek',\n",
    "    'fname' : 'vishan',\n",
    "    'cell' : '03412934930',\n",
    "    'id' : '0001',\n",
    "    'age' : '50',\n",
    "    0 : 'pakistan zinda bad',\n",
    "    ('abc') : 'hello world'\n",
    "}\n",
    "obj1[0]"
   ]
  },
  {
   "cell_type": "code",
   "execution_count": 15,
   "metadata": {},
   "outputs": [
    {
     "data": {
      "text/plain": [
       "dict_keys(['name', 'fname', 'cell', 'id', 'age', 0, 'abc'])"
      ]
     },
     "execution_count": 15,
     "metadata": {},
     "output_type": "execute_result"
    }
   ],
   "source": [
    "obj1.keys()"
   ]
  },
  {
   "cell_type": "code",
   "execution_count": 17,
   "metadata": {},
   "outputs": [
    {
     "data": {
      "text/plain": [
       "['a', 'b', 'c']"
      ]
     },
     "execution_count": 17,
     "metadata": {},
     "output_type": "execute_result"
    }
   ],
   "source": [
    "#element = key:value(pair)\n",
    "#key - string, integer\n",
    "obj1 = {\n",
    "    'name' : 'Vivek',\n",
    "    'fname' : 'vishan',\n",
    "    'cell' : '03412934930',\n",
    "    'id' : '0001',\n",
    "    'age' : '50',\n",
    "    0 : 'pakistan zinda bad',\n",
    "    'abc' : ['a','b','c']\n",
    "}\n",
    "obj1['abc']"
   ]
  },
  {
   "cell_type": "code",
   "execution_count": 19,
   "metadata": {},
   "outputs": [
    {
     "data": {
      "text/plain": [
       "'b'"
      ]
     },
     "execution_count": 19,
     "metadata": {},
     "output_type": "execute_result"
    }
   ],
   "source": [
    "obj1['abc'][1]"
   ]
  },
  {
   "cell_type": "markdown",
   "metadata": {},
   "source": [
    "# Function\n",
    "- function decleration\n",
    "- function body\n",
    "- function calling"
   ]
  },
  {
   "cell_type": "markdown",
   "metadata": {},
   "source": [
    "def name(parameter1, parameter2):\n",
    "    statement1\n",
    "    statement2\n",
    "    statement3\n",
    "    statement4\n",
    "name(arg1,arg2)"
   ]
  },
  {
   "cell_type": "code",
   "execution_count": 20,
   "metadata": {},
   "outputs": [],
   "source": [
    "#Sequence arguments\n",
    "def abc(name,fname,course):# function decr\n",
    "    print(name,fname,course)# function body"
   ]
  },
  {
   "cell_type": "code",
   "execution_count": 21,
   "metadata": {},
   "outputs": [
    {
     "name": "stdout",
     "output_type": "stream",
     "text": [
      "Vivek Vishan A.I\n"
     ]
    }
   ],
   "source": [
    "abc('Vivek','Vishan','A.I')#function call"
   ]
  },
  {
   "cell_type": "code",
   "execution_count": 22,
   "metadata": {},
   "outputs": [
    {
     "name": "stdout",
     "output_type": "stream",
     "text": [
      "A.I Vivek Vishan\n"
     ]
    }
   ],
   "source": [
    "abc('A.I','Vivek','Vishan')#function call"
   ]
  },
  {
   "cell_type": "code",
   "execution_count": 23,
   "metadata": {},
   "outputs": [
    {
     "ename": "TypeError",
     "evalue": "abc() missing 1 required positional argument: 'course'",
     "output_type": "error",
     "traceback": [
      "\u001b[1;31m---------------------------------------------------------------------------\u001b[0m",
      "\u001b[1;31mTypeError\u001b[0m                                 Traceback (most recent call last)",
      "\u001b[1;32m<ipython-input-23-3509d8830690>\u001b[0m in \u001b[0;36m<module>\u001b[1;34m()\u001b[0m\n\u001b[1;32m----> 1\u001b[1;33m \u001b[0mabc\u001b[0m\u001b[1;33m(\u001b[0m\u001b[1;34m\"Vivek\"\u001b[0m\u001b[1;33m,\u001b[0m\u001b[1;34m\"Vishan\"\u001b[0m\u001b[1;33m)\u001b[0m\u001b[1;33m\u001b[0m\u001b[0m\n\u001b[0m",
      "\u001b[1;31mTypeError\u001b[0m: abc() missing 1 required positional argument: 'course'"
     ]
    }
   ],
   "source": [
    "abc(\"Vivek\",\"Vishan\")"
   ]
  },
  {
   "cell_type": "code",
   "execution_count": 24,
   "metadata": {},
   "outputs": [
    {
     "name": "stdout",
     "output_type": "stream",
     "text": [
      "Vivek Vishan A.I\n"
     ]
    }
   ],
   "source": [
    "l1 = [\"Vivek\",\"Vishan\",\"A.I\"]\n",
    "abc(l1[0],l1[1],l1[2])"
   ]
  },
  {
   "cell_type": "code",
   "execution_count": 25,
   "metadata": {},
   "outputs": [
    {
     "name": "stdout",
     "output_type": "stream",
     "text": [
      "Vivek Vishan A.I\n"
     ]
    }
   ],
   "source": [
    "abc(*l1)"
   ]
  },
  {
   "cell_type": "code",
   "execution_count": 26,
   "metadata": {},
   "outputs": [
    {
     "name": "stdout",
     "output_type": "stream",
     "text": [
      "Vivek Vishan A.I\n"
     ]
    }
   ],
   "source": [
    "abc(course='A.I',name='Vivek', fname='Vishan')"
   ]
  },
  {
   "cell_type": "code",
   "execution_count": 28,
   "metadata": {},
   "outputs": [
    {
     "name": "stdout",
     "output_type": "stream",
     "text": [
      "Vivek vishan A.I\n"
     ]
    }
   ],
   "source": [
    "obj = {'course':'A.I',\n",
    "       'name':'Vivek',\n",
    "       'fname':'vishan',\n",
    "      }\n",
    "abc(**obj)\n",
    "#abc(course='A.I',name='Vivek', fname='Vishan')"
   ]
  },
  {
   "cell_type": "markdown",
   "metadata": {},
   "source": [
    "# Dictionary Methods"
   ]
  },
  {
   "cell_type": "code",
   "execution_count": 29,
   "metadata": {},
   "outputs": [
    {
     "name": "stdout",
     "output_type": "stream",
     "text": [
      "1529376352\n",
      "1529376352\n"
     ]
    }
   ],
   "source": [
    "#Shalow copy only copy address data will same\n",
    "#deep copy assign new addresses\n",
    "\n",
    "a= 5\n",
    "b= 5\n",
    "print(id(a))\n",
    "print(id(b))"
   ]
  },
  {
   "cell_type": "code",
   "execution_count": 30,
   "metadata": {},
   "outputs": [
    {
     "data": {
      "text/plain": [
       "{0: 'pakistan zinda bad',\n",
       " 'abc': ['a', 'b', 'c'],\n",
       " 'age': '50',\n",
       " 'cell': '03412934930',\n",
       " 'fname': 'vishan',\n",
       " 'id': '0001',\n",
       " 'name': 'Vivek'}"
      ]
     },
     "execution_count": 30,
     "metadata": {},
     "output_type": "execute_result"
    }
   ],
   "source": [
    "obj1"
   ]
  },
  {
   "cell_type": "code",
   "execution_count": 31,
   "metadata": {},
   "outputs": [
    {
     "name": "stdout",
     "output_type": "stream",
     "text": [
      "1374152405568\n",
      "1374152405568\n"
     ]
    }
   ],
   "source": [
    "obj2 = obj1\n",
    "print(id(obj1))\n",
    "print(id(obj2))"
   ]
  },
  {
   "cell_type": "code",
   "execution_count": 32,
   "metadata": {},
   "outputs": [
    {
     "data": {
      "text/plain": [
       "{0: 'pakistan zinda bad',\n",
       " 'abc': ['a', 'b', 'c'],\n",
       " 'age': '50',\n",
       " 'cell': '03412934930',\n",
       " 'fname': 'vishan',\n",
       " 'id': '0001',\n",
       " 'name': 'Vivek'}"
      ]
     },
     "execution_count": 32,
     "metadata": {},
     "output_type": "execute_result"
    }
   ],
   "source": [
    "a=obj1.copy()\n",
    "a"
   ]
  },
  {
   "cell_type": "code",
   "execution_count": 33,
   "metadata": {},
   "outputs": [
    {
     "data": {
      "text/plain": [
       "{'course': 'A.I', 'fname': 'vishan', 'name': 'Vivek'}"
      ]
     },
     "execution_count": 33,
     "metadata": {},
     "output_type": "execute_result"
    }
   ],
   "source": [
    "obj"
   ]
  },
  {
   "cell_type": "code",
   "execution_count": 34,
   "metadata": {},
   "outputs": [
    {
     "name": "stdout",
     "output_type": "stream",
     "text": [
      "1374152405568\n",
      "1374152409024\n"
     ]
    }
   ],
   "source": [
    "print(id(obj1))\n",
    "print(id(a))"
   ]
  },
  {
   "cell_type": "code",
   "execution_count": 35,
   "metadata": {},
   "outputs": [
    {
     "data": {
      "text/plain": [
       "{}"
      ]
     },
     "execution_count": 35,
     "metadata": {},
     "output_type": "execute_result"
    }
   ],
   "source": [
    "obj.clear()\n",
    "obj"
   ]
  },
  {
   "cell_type": "code",
   "execution_count": 37,
   "metadata": {},
   "outputs": [
    {
     "data": {
      "text/plain": [
       "{'address': None, 'course': None, 'fname': None, 'name': None, 'timing': None}"
      ]
     },
     "execution_count": 37,
     "metadata": {},
     "output_type": "execute_result"
    }
   ],
   "source": [
    "l1 = ['name','fname','course','timing','address']\n",
    "dict.fromkeys(l1)"
   ]
  },
  {
   "cell_type": "code",
   "execution_count": 38,
   "metadata": {},
   "outputs": [
    {
     "data": {
      "text/plain": [
       "{'address': 'abc',\n",
       " 'course': 'abc',\n",
       " 'fname': 'abc',\n",
       " 'name': 'abc',\n",
       " 'timing': 'abc'}"
      ]
     },
     "execution_count": 38,
     "metadata": {},
     "output_type": "execute_result"
    }
   ],
   "source": [
    "a1 =dict.fromkeys(l1,'abc')\n",
    "#a1 = dict.fromkeys(l1, value='##')\n",
    "a1"
   ]
  },
  {
   "cell_type": "code",
   "execution_count": 39,
   "metadata": {},
   "outputs": [
    {
     "ename": "KeyError",
     "evalue": "'cell'",
     "output_type": "error",
     "traceback": [
      "\u001b[1;31m---------------------------------------------------------------------------\u001b[0m",
      "\u001b[1;31mKeyError\u001b[0m                                  Traceback (most recent call last)",
      "\u001b[1;32m<ipython-input-39-6d336e275f75>\u001b[0m in \u001b[0;36m<module>\u001b[1;34m()\u001b[0m\n\u001b[1;32m----> 1\u001b[1;33m \u001b[0ma1\u001b[0m\u001b[1;33m[\u001b[0m\u001b[1;34m'cell'\u001b[0m\u001b[1;33m]\u001b[0m\u001b[1;33m\u001b[0m\u001b[0m\n\u001b[0m",
      "\u001b[1;31mKeyError\u001b[0m: 'cell'"
     ]
    }
   ],
   "source": [
    "a1['cell']"
   ]
  },
  {
   "cell_type": "code",
   "execution_count": 40,
   "metadata": {},
   "outputs": [
    {
     "data": {
      "text/plain": [
       "'abc'"
      ]
     },
     "execution_count": 40,
     "metadata": {},
     "output_type": "execute_result"
    }
   ],
   "source": [
    "a1.get('name')"
   ]
  },
  {
   "cell_type": "code",
   "execution_count": 43,
   "metadata": {},
   "outputs": [],
   "source": [
    "a1.get('cell')"
   ]
  },
  {
   "cell_type": "code",
   "execution_count": 44,
   "metadata": {},
   "outputs": [
    {
     "data": {
      "text/plain": [
       "'NotValid'"
      ]
     },
     "execution_count": 44,
     "metadata": {},
     "output_type": "execute_result"
    }
   ],
   "source": [
    "a1.get('cell','NotValid')"
   ]
  },
  {
   "cell_type": "code",
   "execution_count": 45,
   "metadata": {},
   "outputs": [],
   "source": [
    "a1.get('contactNumber')\n",
    "#Extract value from key without generate error"
   ]
  },
  {
   "cell_type": "code",
   "execution_count": 46,
   "metadata": {},
   "outputs": [
    {
     "data": {
      "text/plain": [
       "{'address': 'abc',\n",
       " 'course': 'abc',\n",
       " 'fname': 'abc',\n",
       " 'name': 'abc',\n",
       " 'timing': 'abc'}"
      ]
     },
     "execution_count": 46,
     "metadata": {},
     "output_type": "execute_result"
    }
   ],
   "source": [
    "a1"
   ]
  },
  {
   "cell_type": "code",
   "execution_count": 47,
   "metadata": {},
   "outputs": [
    {
     "data": {
      "text/plain": [
       "dict_keys(['name', 'fname', 'course', 'timing', 'address'])"
      ]
     },
     "execution_count": 47,
     "metadata": {},
     "output_type": "execute_result"
    }
   ],
   "source": [
    "l1=a1.keys()\n",
    "l1"
   ]
  },
  {
   "cell_type": "code",
   "execution_count": 49,
   "metadata": {},
   "outputs": [
    {
     "name": "stdout",
     "output_type": "stream",
     "text": [
      "True\n"
     ]
    }
   ],
   "source": [
    "names = ['vivek','asif','amjad','azhar']\n",
    "\n",
    "for name in names:\n",
    "    if name=='vivek':\n",
    "        print(True)"
   ]
  },
  {
   "cell_type": "code",
   "execution_count": 50,
   "metadata": {},
   "outputs": [
    {
     "data": {
      "text/plain": [
       "True"
      ]
     },
     "execution_count": 50,
     "metadata": {},
     "output_type": "execute_result"
    }
   ],
   "source": [
    "'vivek' in names"
   ]
  },
  {
   "cell_type": "code",
   "execution_count": 51,
   "metadata": {},
   "outputs": [
    {
     "data": {
      "text/plain": [
       "True"
      ]
     },
     "execution_count": 51,
     "metadata": {},
     "output_type": "execute_result"
    }
   ],
   "source": [
    "'timing' in l1"
   ]
  },
  {
   "cell_type": "code",
   "execution_count": 52,
   "metadata": {},
   "outputs": [
    {
     "data": {
      "text/plain": [
       "{0: 'pakistan zinda bad',\n",
       " 'abc': ['a', 'b', 'c'],\n",
       " 'age': '50',\n",
       " 'cell': '03412934930',\n",
       " 'fname': 'vishan',\n",
       " 'id': '0001',\n",
       " 'name': 'Vivek'}"
      ]
     },
     "execution_count": 52,
     "metadata": {},
     "output_type": "execute_result"
    }
   ],
   "source": [
    "obj1"
   ]
  },
  {
   "cell_type": "code",
   "execution_count": 53,
   "metadata": {},
   "outputs": [
    {
     "data": {
      "text/plain": [
       "dict_keys(['name', 'fname', 'cell', 'id', 'age', 0, 'abc'])"
      ]
     },
     "execution_count": 53,
     "metadata": {},
     "output_type": "execute_result"
    }
   ],
   "source": [
    "obj1.keys()"
   ]
  },
  {
   "cell_type": "code",
   "execution_count": 54,
   "metadata": {},
   "outputs": [
    {
     "data": {
      "text/plain": [
       "dict_values(['Vivek', 'vishan', '03412934930', '0001', '50', 'pakistan zinda bad', ['a', 'b', 'c']])"
      ]
     },
     "execution_count": 54,
     "metadata": {},
     "output_type": "execute_result"
    }
   ],
   "source": [
    "obj1.values()"
   ]
  },
  {
   "cell_type": "code",
   "execution_count": 55,
   "metadata": {},
   "outputs": [
    {
     "data": {
      "text/plain": [
       "dict_items([('name', 'Vivek'), ('fname', 'vishan'), ('cell', '03412934930'), ('id', '0001'), ('age', '50'), (0, 'pakistan zinda bad'), ('abc', ['a', 'b', 'c'])])"
      ]
     },
     "execution_count": 55,
     "metadata": {},
     "output_type": "execute_result"
    }
   ],
   "source": [
    "obj1.items()"
   ]
  },
  {
   "cell_type": "code",
   "execution_count": 57,
   "metadata": {},
   "outputs": [
    {
     "data": {
      "text/plain": [
       "{0: 'A', 1: 'B', 2: 'C', 3: 'D', 4: 'E'}"
      ]
     },
     "execution_count": 57,
     "metadata": {},
     "output_type": "execute_result"
    }
   ],
   "source": [
    "a1={\n",
    "    0:'A',\n",
    "    1:'B',\n",
    "    3:'D',\n",
    "    2:'C',\n",
    "    4:'E'\n",
    "}\n",
    "a1"
   ]
  },
  {
   "cell_type": "code",
   "execution_count": 58,
   "metadata": {},
   "outputs": [
    {
     "data": {
      "text/plain": [
       "[0, 1, 2, 3, 4]"
      ]
     },
     "execution_count": 58,
     "metadata": {},
     "output_type": "execute_result"
    }
   ],
   "source": [
    "sorted(a1)"
   ]
  },
  {
   "cell_type": "code",
   "execution_count": 59,
   "metadata": {},
   "outputs": [
    {
     "data": {
      "text/plain": [
       "{0: 'pakistan zinda bad',\n",
       " 'abc': ['a', 'b', 'c'],\n",
       " 'age': '50',\n",
       " 'cell': '03412934930',\n",
       " 'fname': 'vishan',\n",
       " 'id': '0001',\n",
       " 'name': 'Vivek'}"
      ]
     },
     "execution_count": 59,
     "metadata": {},
     "output_type": "execute_result"
    }
   ],
   "source": [
    "obj1"
   ]
  },
  {
   "cell_type": "code",
   "execution_count": 60,
   "metadata": {},
   "outputs": [
    {
     "name": "stdout",
     "output_type": "stream",
     "text": [
      "name\n",
      "fname\n",
      "cell\n",
      "id\n",
      "age\n",
      "0\n",
      "abc\n"
     ]
    }
   ],
   "source": [
    "for e in obj1:\n",
    "    print(e)"
   ]
  },
  {
   "cell_type": "code",
   "execution_count": 61,
   "metadata": {},
   "outputs": [
    {
     "name": "stdout",
     "output_type": "stream",
     "text": [
      "Vivek\n",
      "vishan\n",
      "03412934930\n",
      "0001\n",
      "50\n",
      "pakistan zinda bad\n",
      "['a', 'b', 'c']\n"
     ]
    }
   ],
   "source": [
    "for v in obj1.values():\n",
    "    print(v)"
   ]
  },
  {
   "cell_type": "code",
   "execution_count": 62,
   "metadata": {},
   "outputs": [
    {
     "name": "stdout",
     "output_type": "stream",
     "text": [
      "20 25\n"
     ]
    }
   ],
   "source": [
    "a , b = [20,25]\n",
    "print(a,b)"
   ]
  },
  {
   "cell_type": "code",
   "execution_count": 63,
   "metadata": {},
   "outputs": [
    {
     "name": "stdout",
     "output_type": "stream",
     "text": [
      "20 25 abc\n"
     ]
    }
   ],
   "source": [
    "a , b, c = [20,25,'abc']\n",
    "print(a,b,c)"
   ]
  },
  {
   "cell_type": "code",
   "execution_count": 66,
   "metadata": {},
   "outputs": [
    {
     "name": "stdout",
     "output_type": "stream",
     "text": [
      "key= name value= Vivek\n",
      "key= fname value= vishan\n",
      "key= cell value= 03412934930\n",
      "key= id value= 0001\n",
      "key= age value= 50\n",
      "key= 0 value= pakistan zinda bad\n",
      "key= abc value= ['a', 'b', 'c']\n"
     ]
    }
   ],
   "source": [
    "for k,v in obj1.items():\n",
    "#    print(e[0],e[1])\n",
    "    print('key=',k,'value=',v)\n",
    "    # print(e)"
   ]
  },
  {
   "cell_type": "code",
   "execution_count": 67,
   "metadata": {},
   "outputs": [
    {
     "data": {
      "text/plain": [
       "{0: 'pakistan zinda bad',\n",
       " 'abc': ['a', 'b', 'c'],\n",
       " 'age': '50',\n",
       " 'cell': '03412934930',\n",
       " 'fname': 'vishan',\n",
       " 'id': '0001',\n",
       " 'name': 'Vivek'}"
      ]
     },
     "execution_count": 67,
     "metadata": {},
     "output_type": "execute_result"
    }
   ],
   "source": [
    "obj1"
   ]
  },
  {
   "cell_type": "code",
   "execution_count": 68,
   "metadata": {},
   "outputs": [
    {
     "data": {
      "text/plain": [
       "['a', 'b', 'c']"
      ]
     },
     "execution_count": 68,
     "metadata": {},
     "output_type": "execute_result"
    }
   ],
   "source": [
    "obj1.pop('abc')"
   ]
  },
  {
   "cell_type": "code",
   "execution_count": 69,
   "metadata": {},
   "outputs": [
    {
     "data": {
      "text/plain": [
       "{0: 'pakistan zinda bad',\n",
       " 'age': '50',\n",
       " 'cell': '03412934930',\n",
       " 'fname': 'vishan',\n",
       " 'id': '0001',\n",
       " 'name': 'Vivek'}"
      ]
     },
     "execution_count": 69,
     "metadata": {},
     "output_type": "execute_result"
    }
   ],
   "source": [
    "obj1"
   ]
  },
  {
   "cell_type": "code",
   "execution_count": 70,
   "metadata": {},
   "outputs": [
    {
     "data": {
      "text/plain": [
       "(0, 'pakistan zinda bad')"
      ]
     },
     "execution_count": 70,
     "metadata": {},
     "output_type": "execute_result"
    }
   ],
   "source": [
    "obj1.popitem()"
   ]
  },
  {
   "cell_type": "code",
   "execution_count": 71,
   "metadata": {},
   "outputs": [
    {
     "data": {
      "text/plain": [
       "{'age': '50',\n",
       " 'cell': '03412934930',\n",
       " 'fname': 'vishan',\n",
       " 'id': '0001',\n",
       " 'name': 'Vivek'}"
      ]
     },
     "execution_count": 71,
     "metadata": {},
     "output_type": "execute_result"
    }
   ],
   "source": [
    "obj1"
   ]
  },
  {
   "cell_type": "code",
   "execution_count": 72,
   "metadata": {},
   "outputs": [
    {
     "data": {
      "text/plain": [
       "{'age': '50',\n",
       " 'cell': '03412934930',\n",
       " 'fname': 'vishan',\n",
       " 'id': '0001',\n",
       " 'name': 'Vivek',\n",
       " 'xyz': 'pak'}"
      ]
     },
     "execution_count": 72,
     "metadata": {},
     "output_type": "execute_result"
    }
   ],
   "source": [
    "obj1.setdefault('xyz','pak')\n",
    "obj1"
   ]
  },
  {
   "cell_type": "code",
   "execution_count": 74,
   "metadata": {},
   "outputs": [
    {
     "data": {
      "text/plain": [
       "{'a': 'A',\n",
       " 'age': '50',\n",
       " 'cell': '03412934930',\n",
       " 'fname': 'vishan',\n",
       " 'id': '0001',\n",
       " 'name': 'Ali',\n",
       " 'xyz': 'pak'}"
      ]
     },
     "execution_count": 74,
     "metadata": {},
     "output_type": "execute_result"
    }
   ],
   "source": [
    "a1 = {\n",
    "    'a':'A',\n",
    "    'name': 'Ali'}\n",
    "obj1.update(a1)\n",
    "obj1"
   ]
  },
  {
   "cell_type": "code",
   "execution_count": 75,
   "metadata": {},
   "outputs": [
    {
     "data": {
      "text/plain": [
       "{'a', 'b', 'c'}"
      ]
     },
     "execution_count": 75,
     "metadata": {},
     "output_type": "execute_result"
    }
   ],
   "source": [
    "{'a','b','a','c','a'} #set"
   ]
  },
  {
   "cell_type": "code",
   "execution_count": 77,
   "metadata": {},
   "outputs": [
    {
     "data": {
      "text/plain": [
       "{}"
      ]
     },
     "execution_count": 77,
     "metadata": {},
     "output_type": "execute_result"
    }
   ],
   "source": [
    "a1 = {} #Empty Dictionary\n",
    "a1"
   ]
  },
  {
   "cell_type": "code",
   "execution_count": 78,
   "metadata": {},
   "outputs": [
    {
     "data": {
      "text/plain": [
       "{'age': 20, 'fname': 'vishan', 'name': 'vivek'}"
      ]
     },
     "execution_count": 78,
     "metadata": {},
     "output_type": "execute_result"
    }
   ],
   "source": [
    "a1['name'] = 'vivek'\n",
    "a1['fname'] = 'vishan'\n",
    "a1['age'] = 20\n",
    "a1"
   ]
  },
  {
   "cell_type": "code",
   "execution_count": 79,
   "metadata": {},
   "outputs": [
    {
     "name": "stdout",
     "output_type": "stream",
     "text": [
      "Press 'x' for exit\n",
      "Enter your name:Vivek\n",
      "Enter your Father's name:Vishan\n",
      "Press 'x' for exit\n",
      "Enter your name:Rajesh\n",
      "Enter your Father's name:Sajan\n",
      "Press 'x' for exit\n",
      "Enter your name:Aneel\n",
      "Enter your Father's name:Vishan\n",
      "Press 'x' for exit\n",
      "Enter your name:Madan\n",
      "Enter your Father's name:Vishan\n",
      "Press 'x' for exit\n",
      "Enter your name:Khushal\n",
      "Enter your Father's name:Sajan\n",
      "Press 'x' for exit\n",
      "Enter your name:x\n",
      "Enter your Father's name:x\n"
     ]
    }
   ],
   "source": [
    "db =[]\n",
    "while True:\n",
    "    print(\"Press 'x' for exit\")\n",
    "    name =input(\"Enter your name:\")\n",
    "    fname =input(\"Enter your Father's name:\")\n",
    "    r = {}\n",
    "    if name!='x' or fname!='x':\n",
    "        r['name'] = name\n",
    "        r['fname'] = fname\n",
    "        db.append(r)\n",
    "    else:\n",
    "        break\n",
    "        db"
   ]
  },
  {
   "cell_type": "code",
   "execution_count": 81,
   "metadata": {},
   "outputs": [
    {
     "data": {
      "text/plain": [
       "[{'fname': 'Vishan', 'name': 'Vivek'},\n",
       " {'fname': 'Sajan', 'name': 'Rajesh'},\n",
       " {'fname': 'Vishan', 'name': 'Aneel'},\n",
       " {'fname': 'Vishan', 'name': 'Madan'},\n",
       " {'fname': 'Sajan', 'name': 'Khushal'}]"
      ]
     },
     "execution_count": 81,
     "metadata": {},
     "output_type": "execute_result"
    }
   ],
   "source": [
    "db"
   ]
  },
  {
   "cell_type": "markdown",
   "metadata": {},
   "source": [
    "# Functions"
   ]
  },
  {
   "cell_type": "code",
   "execution_count": 82,
   "metadata": {},
   "outputs": [
    {
     "name": "stdout",
     "output_type": "stream",
     "text": [
      "Saylani Welfer Trust\n",
      "Bhadra bad\n",
      "Karachi\n",
      "A.I\n"
     ]
    }
   ],
   "source": [
    "print(\"Saylani Welfer Trust\")\n",
    "print(\"Bhadra bad\")\n",
    "print(\"Karachi\")\n",
    "print(\"A.I\")"
   ]
  },
  {
   "cell_type": "code",
   "execution_count": 83,
   "metadata": {},
   "outputs": [
    {
     "name": "stdout",
     "output_type": "stream",
     "text": [
      "Saylani Welfer Trust\n",
      "Bhadra bad\n",
      "Karachi\n",
      "A.I\n"
     ]
    }
   ],
   "source": [
    "print(\"Saylani Welfer Trust\")\n",
    "print(\"Bhadra bad\")\n",
    "print(\"Karachi\")\n",
    "print(\"A.I\")"
   ]
  },
  {
   "cell_type": "markdown",
   "metadata": {},
   "source": [
    "**Default function(Aisa Function jo apse koi argument na ly)**"
   ]
  },
  {
   "cell_type": "code",
   "execution_count": 84,
   "metadata": {},
   "outputs": [],
   "source": [
    "def info():\n",
    "    print(\"Saylani Welfer Trust\")\n",
    "    print(\"Bhadra bad\")\n",
    "    print(\"Karachi\")\n",
    "    print(\"A.I\")"
   ]
  },
  {
   "cell_type": "code",
   "execution_count": 86,
   "metadata": {},
   "outputs": [
    {
     "name": "stdout",
     "output_type": "stream",
     "text": [
      "Saylani Welfer Trust\n",
      "Bhadra bad\n",
      "Karachi\n",
      "A.I\n"
     ]
    }
   ],
   "source": [
    "info()"
   ]
  },
  {
   "cell_type": "markdown",
   "metadata": {},
   "source": [
    "**Required Arguments**"
   ]
  },
  {
   "cell_type": "code",
   "execution_count": 89,
   "metadata": {},
   "outputs": [],
   "source": [
    "def student(name, sid, fname):\n",
    "    abc = \"\"\"\n",
    "    Saylani Welfer Trust\n",
    "    Bhadra bad Karachi\")\n",
    "    Name: {}\n",
    "    Father Name: {}\n",
    "    Roll No: {}\n",
    "    \"\"\".format(name, fname, sid)\n",
    "    \n",
    "    return abc"
   ]
  },
  {
   "cell_type": "code",
   "execution_count": 90,
   "metadata": {},
   "outputs": [
    {
     "name": "stdout",
     "output_type": "stream",
     "text": [
      "\n",
      "    Saylani Welfer Trust\n",
      "    Bhadra bad Karachi\")\n",
      "    Name: Vivek\n",
      "    Father Name: 001\n",
      "    Roll No: Vishan\n",
      "    \n"
     ]
    }
   ],
   "source": [
    "print(student('Vivek', 'Vishan','001'))"
   ]
  },
  {
   "cell_type": "code",
   "execution_count": 91,
   "metadata": {},
   "outputs": [
    {
     "name": "stdout",
     "output_type": "stream",
     "text": [
      "\n",
      "    Saylani Welfer Trust\n",
      "    Bhadra bad Karachi\")\n",
      "    Name: Vivek\n",
      "    Father Name: Vishan\n",
      "    Roll No: 001\n",
      "    \n"
     ]
    }
   ],
   "source": [
    "print(student(name = 'Vivek', fname ='Vishan', sid ='001'))"
   ]
  },
  {
   "cell_type": "code",
   "execution_count": 92,
   "metadata": {},
   "outputs": [],
   "source": [
    "l1=[{'name':'Ali','fname':'Hamza', 'sid':1},\n",
    "   {'name':'Amjad','fname':'Hazaro', 'sid':2},\n",
    "   {'name':'Azhar','fname':'Wali', 'sid':3},\n",
    "   {'name':'Asif','fname':'Hakeem', 'sid':4}]"
   ]
  },
  {
   "cell_type": "code",
   "execution_count": 93,
   "metadata": {},
   "outputs": [
    {
     "name": "stdout",
     "output_type": "stream",
     "text": [
      "\n",
      "    Saylani Welfer Trust\n",
      "    Bhadra bad Karachi\")\n",
      "    Name: Ali\n",
      "    Father Name: Hamza\n",
      "    Roll No: 1\n",
      "    \n",
      "\n",
      "    Saylani Welfer Trust\n",
      "    Bhadra bad Karachi\")\n",
      "    Name: Amjad\n",
      "    Father Name: Hazaro\n",
      "    Roll No: 2\n",
      "    \n",
      "\n",
      "    Saylani Welfer Trust\n",
      "    Bhadra bad Karachi\")\n",
      "    Name: Azhar\n",
      "    Father Name: Wali\n",
      "    Roll No: 3\n",
      "    \n",
      "\n",
      "    Saylani Welfer Trust\n",
      "    Bhadra bad Karachi\")\n",
      "    Name: Asif\n",
      "    Father Name: Hakeem\n",
      "    Roll No: 4\n",
      "    \n"
     ]
    }
   ],
   "source": [
    "for d in l1:\n",
    "    print(student(**d))"
   ]
  },
  {
   "cell_type": "code",
   "execution_count": 97,
   "metadata": {},
   "outputs": [
    {
     "name": "stdout",
     "output_type": "stream",
     "text": [
      "nameAli\n",
      "sid1\n",
      "\n",
      "    Saylani Welfer Trust\n",
      "    Bhadra bad Karachi\")\n",
      "    Name: Ali\n",
      "    Father Name: Hamza\n",
      "    Roll No: 1\n",
      "    \n",
      "Valid user\n"
     ]
    }
   ],
   "source": [
    "a1 = input(\"name\")\n",
    "a2 = int(input(\"sid\"))\n",
    "for d in l1:\n",
    "    if d['name']==a1 and d['sid']==a2:\n",
    "        print(student(**d))\n",
    "        print('Valid user')\n",
    "        break\n",
    "    else:\n",
    "        print('Invalid User')"
   ]
  },
  {
   "cell_type": "code",
   "execution_count": 100,
   "metadata": {},
   "outputs": [
    {
     "name": "stdout",
     "output_type": "stream",
     "text": [
      "\n",
      "    Saylani Welfer Trust\n",
      "    Bhadra bad Karachi\")\n",
      "    Name: vivek\n",
      "    Father Name: 3\n",
      "    Roll No: vishan\n",
      "    \n"
     ]
    }
   ],
   "source": [
    "print(student('vivek','vishan','3')) #sequence args"
   ]
  },
  {
   "cell_type": "code",
   "execution_count": 101,
   "metadata": {},
   "outputs": [
    {
     "name": "stdout",
     "output_type": "stream",
     "text": [
      "\n",
      "    Saylani Welfer Trust\n",
      "    Bhadra bad Karachi\")\n",
      "    Name: vivek\n",
      "    Father Name: vishan\n",
      "    Roll No: 7\n",
      "    \n"
     ]
    }
   ],
   "source": [
    "print(student(name='vivek',sid = 7, fname= 'vishan')) # key =value args"
   ]
  },
  {
   "cell_type": "code",
   "execution_count": 102,
   "metadata": {},
   "outputs": [
    {
     "name": "stdout",
     "output_type": "stream",
     "text": [
      "\n",
      "    Saylani Welfer Trust\n",
      "    Bhadra bad Karachi\")\n",
      "    Name: vivek\n",
      "    Father Name: 7\n",
      "    Roll No: vishan\n",
      "    \n"
     ]
    }
   ],
   "source": [
    "l1 = ['vivek','vishan',7]\n",
    "print(student(*l1))"
   ]
  },
  {
   "cell_type": "code",
   "execution_count": 105,
   "metadata": {},
   "outputs": [
    {
     "name": "stdout",
     "output_type": "stream",
     "text": [
      "\n",
      "    Saylani Welfer Trust\n",
      "    Bhadra bad Karachi\")\n",
      "    Name: vivek\n",
      "    Father Name: vishan\n",
      "    Roll No: 27\n",
      "    \n"
     ]
    }
   ],
   "source": [
    "l1 = {'name':'vivek','fname':'vishan','sid':27}\n",
    "print(student(**l1))"
   ]
  },
  {
   "cell_type": "code",
   "execution_count": 106,
   "metadata": {},
   "outputs": [
    {
     "name": "stdout",
     "output_type": "stream",
     "text": [
      "1\n",
      "7\n",
      "14\n",
      "30\n"
     ]
    }
   ],
   "source": [
    "def abc(a=0,b=0,c=0):\n",
    "    return a + b + c\n",
    "\n",
    "print(abc(1))\n",
    "print(abc(2,5))\n",
    "print(abc(3,4,7))\n",
    "print(abc(c=30))"
   ]
  },
  {
   "cell_type": "code",
   "execution_count": 107,
   "metadata": {},
   "outputs": [
    {
     "ename": "TypeError",
     "evalue": "abc() takes from 0 to 3 positional arguments but 8 were given",
     "output_type": "error",
     "traceback": [
      "\u001b[1;31m---------------------------------------------------------------------------\u001b[0m",
      "\u001b[1;31mTypeError\u001b[0m                                 Traceback (most recent call last)",
      "\u001b[1;32m<ipython-input-107-2df0eaf07bb7>\u001b[0m in \u001b[0;36m<module>\u001b[1;34m()\u001b[0m\n\u001b[1;32m----> 1\u001b[1;33m \u001b[0mabc\u001b[0m\u001b[1;33m(\u001b[0m\u001b[1;36m1\u001b[0m\u001b[1;33m,\u001b[0m\u001b[1;36m2\u001b[0m\u001b[1;33m,\u001b[0m\u001b[1;36m4\u001b[0m\u001b[1;33m,\u001b[0m\u001b[1;36m5\u001b[0m\u001b[1;33m,\u001b[0m\u001b[1;36m4\u001b[0m\u001b[1;33m,\u001b[0m\u001b[1;36m34\u001b[0m\u001b[1;33m,\u001b[0m\u001b[1;36m34\u001b[0m\u001b[1;33m,\u001b[0m\u001b[1;36m53\u001b[0m\u001b[1;33m)\u001b[0m\u001b[1;33m\u001b[0m\u001b[0m\n\u001b[0m",
      "\u001b[1;31mTypeError\u001b[0m: abc() takes from 0 to 3 positional arguments but 8 were given"
     ]
    }
   ],
   "source": [
    "abc(1,2,4,5,4,34,34,53)"
   ]
  },
  {
   "cell_type": "code",
   "execution_count": 108,
   "metadata": {},
   "outputs": [],
   "source": [
    "def abc(*a):\n",
    "    return sum(a)"
   ]
  },
  {
   "cell_type": "code",
   "execution_count": 109,
   "metadata": {},
   "outputs": [
    {
     "name": "stdout",
     "output_type": "stream",
     "text": [
      "13\n",
      "7\n",
      "59\n"
     ]
    }
   ],
   "source": [
    "print(abc(1,2,4,4,2))\n",
    "print(abc(1,4,2))\n",
    "print(abc(1,2,4,3,43,4,2))"
   ]
  },
  {
   "cell_type": "code",
   "execution_count": 111,
   "metadata": {},
   "outputs": [
    {
     "name": "stdout",
     "output_type": "stream",
     "text": [
      "user: Vivek\n",
      "fname: Vishan\n",
      "26\n"
     ]
    }
   ],
   "source": [
    "def abc(name, fname , *a):\n",
    "    print(\"user:\",name)\n",
    "    print(\"fname:\",fname)\n",
    "    print(sum(a))\n",
    "abc('Vivek','Vishan',2,3,4,5,6,2,4)"
   ]
  },
  {
   "cell_type": "code",
   "execution_count": 113,
   "metadata": {},
   "outputs": [
    {
     "name": "stdout",
     "output_type": "stream",
     "text": [
      "{'name': 'vivek', 'fname': 'vishan'}\n",
      "None\n",
      "{'a': 'aa', 'b': 'cc'}\n",
      "None\n"
     ]
    }
   ],
   "source": [
    "def  abc(**d):\n",
    "    print(d)\n",
    "\n",
    "print(abc(name='vivek',fname='vishan'))\n",
    "print(abc(a='aa',b='cc'))"
   ]
  },
  {
   "cell_type": "code",
   "execution_count": 114,
   "metadata": {},
   "outputs": [
    {
     "data": {
      "text/plain": [
       "{'a': 'A',\n",
       " 'age': '50',\n",
       " 'cell': '03412934930',\n",
       " 'fname': 'vishan',\n",
       " 'id': '0001',\n",
       " 'name': 'Ali',\n",
       " 'xyz': 'pak'}"
      ]
     },
     "execution_count": 114,
     "metadata": {},
     "output_type": "execute_result"
    }
   ],
   "source": [
    "obj1"
   ]
  },
  {
   "cell_type": "code",
   "execution_count": 118,
   "metadata": {},
   "outputs": [
    {
     "name": "stdout",
     "output_type": "stream",
     "text": [
      "Registered Students\n",
      "Ali\n",
      "Hamza\n",
      "Passing Status: True\n",
      "\n",
      "Amjad\n",
      "Hazaro\n",
      "Passing Status: True\n",
      "\n",
      "Azhar\n",
      "Wali\n",
      "Passing Status: True\n",
      "\n",
      "Asif\n",
      "Hakeem\n",
      "Passing Status: True\n",
      "\n",
      "Maaz\n",
      "Hamza1\n",
      "Passing Status: True\n",
      "\n",
      "Amjad1\n",
      "Hazaro1\n",
      "Passing Status: True\n",
      "\n"
     ]
    }
   ],
   "source": [
    "data = [{'name':'Ali','fname':'Hamza', 'pass':True},\n",
    "   {'name':'Amjad','fname':'Hazaro', 'pass':True},\n",
    "   {'name':'Azhar','fname':'Wali', 'pass':True},\n",
    "   {'name':'Asif','fname':'Hakeem', 'pass':True},\n",
    "    {'name':'Maaz','fname':'Hamza1', 'pass':True},\n",
    "   {'name':'Amjad1','fname':'Hazaro1', 'pass':True},\n",
    "   {'name':'Azhar1','fname':'Wali1', 'pass':False},\n",
    "   {'name':'Asif1','fname':'Hakeem1', 'pass':False}]\n",
    "registered = []\n",
    "ind = data.copy()\n",
    "i = 0\n",
    "l1 = []\n",
    "for x in data:\n",
    "    ind = data.copy()\n",
    "    if x['pass']==True:\n",
    "        registered.append(data[i])\n",
    "    else:\n",
    "        l1.append(ind.pop(i))\n",
    "    i+=1\n",
    "data =l1\n",
    "#data.pop(*ind)\n",
    "\n",
    "print(\"Registered Students\")\n",
    "for i in registered:\n",
    "    print(i['name'])\n",
    "    print(i['fname'])\n",
    "    print('Passing Status:',i['pass'])\n",
    "    print()"
   ]
  },
  {
   "cell_type": "markdown",
   "metadata": {},
   "source": [
    "write a program that has the dictionary of your friends' names as keys and phone numbers as its values.\n",
    "print the dictionary in sorted order. promt the user to enter the name and check if it is present in the\n",
    "dictionary . if name is not preseent then enter the details in dictionary."
   ]
  },
  {
   "cell_type": "code",
   "execution_count": null,
   "metadata": {},
   "outputs": [],
   "source": []
  }
 ],
 "metadata": {
  "kernelspec": {
   "display_name": "Python 3",
   "language": "python",
   "name": "python3"
  },
  "language_info": {
   "codemirror_mode": {
    "name": "ipython",
    "version": 3
   },
   "file_extension": ".py",
   "mimetype": "text/x-python",
   "name": "python",
   "nbconvert_exporter": "python",
   "pygments_lexer": "ipython3",
   "version": "3.6.4"
  }
 },
 "nbformat": 4,
 "nbformat_minor": 2
}
