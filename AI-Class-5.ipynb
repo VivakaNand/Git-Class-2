{
 "cells": [
  {
   "cell_type": "code",
   "execution_count": 13,
   "metadata": {},
   "outputs": [],
   "source": [
    "class Man():#staring class\n",
    "    \n",
    "    counter = 0 #class variable\n",
    "    \n",
    "    def __init__(self,name, fname, qualification): # Methods\n",
    "        self.name = name\n",
    "        self.fname = fname\n",
    "        self.qualification = qualification\n",
    "        self.center = \"Saylani HO\"\n",
    "        \n",
    "        Man.counter += 1\n",
    "        print(\"total members:\", Man.counter)\n",
    "        \n",
    "    def sleeping(self, snooring= \"Khahaha!\"):\n",
    "        print(\"I am sleeping\"+str(snooring))\n",
    "        \n",
    "    def watching(self, watch=\"T.V\"):\n",
    "        print(\"I am watching\"+str(watch))\n",
    "        \n",
    "    def walking(self, speed=\"5KM/H\"):\n",
    "        print(speed)"
   ]
  },
  {
   "cell_type": "code",
   "execution_count": 14,
   "metadata": {},
   "outputs": [
    {
     "name": "stdout",
     "output_type": "stream",
     "text": [
      "total members: 1\n",
      "total members: 2\n",
      "total members: 3\n"
     ]
    }
   ],
   "source": [
    "obj1 = Man(\"Vivek\",\"Vishan\",\"B.E\")\n",
    "obj2 = Man(\"Vivek\",\"Vishan\",\"B.E\")\n",
    "obj3 = Man(\"Vivek\",\"Vishan\",\"B.E\")"
   ]
  },
  {
   "cell_type": "code",
   "execution_count": 15,
   "metadata": {},
   "outputs": [
    {
     "data": {
      "text/plain": [
       "'Vivek'"
      ]
     },
     "execution_count": 15,
     "metadata": {},
     "output_type": "execute_result"
    }
   ],
   "source": [
    "obj1.name"
   ]
  },
  {
   "cell_type": "code",
   "execution_count": 16,
   "metadata": {},
   "outputs": [
    {
     "name": "stdout",
     "output_type": "stream",
     "text": [
      "I am sleepingKhahaha!\n"
     ]
    }
   ],
   "source": [
    "obj2.sleeping()"
   ]
  },
  {
   "cell_type": "code",
   "execution_count": 17,
   "metadata": {},
   "outputs": [
    {
     "data": {
      "text/plain": [
       "'Ali'"
      ]
     },
     "execution_count": 17,
     "metadata": {},
     "output_type": "execute_result"
    }
   ],
   "source": [
    "obj1.name = \"Ali\"\n",
    "obj1.name"
   ]
  },
  {
   "cell_type": "code",
   "execution_count": 18,
   "metadata": {},
   "outputs": [
    {
     "data": {
      "text/plain": [
       "3"
      ]
     },
     "execution_count": 18,
     "metadata": {},
     "output_type": "execute_result"
    }
   ],
   "source": [
    "obj1.counter"
   ]
  },
  {
   "cell_type": "code",
   "execution_count": 30,
   "metadata": {},
   "outputs": [],
   "source": [
    "class Baba(Man):\n",
    "    def eating(self,bread=\"Roti\"):\n",
    "        print(bread)\n",
    "    \n",
    "    def sleeping(self):\n",
    "        print(\"I am sleeping\")\n",
    "        "
   ]
  },
  {
   "cell_type": "code",
   "execution_count": 32,
   "metadata": {},
   "outputs": [
    {
     "name": "stdout",
     "output_type": "stream",
     "text": [
      "total members: 7\n",
      "I am sleeping\n"
     ]
    }
   ],
   "source": [
    "b1 = Baba('ali','Hamza','abc')\n",
    "b1.sleeping()"
   ]
  },
  {
   "cell_type": "code",
   "execution_count": 28,
   "metadata": {},
   "outputs": [],
   "source": [
    "class Women(Man):\n",
    "\n",
    "    def cooking(self,bread=\"Roti\"):\n",
    "        print(bread)"
   ]
  },
  {
   "cell_type": "code",
   "execution_count": 29,
   "metadata": {},
   "outputs": [
    {
     "name": "stdout",
     "output_type": "stream",
     "text": [
      "total members: 5\n"
     ]
    }
   ],
   "source": [
    "b2 = Women('123','abc','xyz')"
   ]
  },
  {
   "cell_type": "code",
   "execution_count": 33,
   "metadata": {},
   "outputs": [],
   "source": [
    "class N():#staring class\n",
    "    \n",
    "    def __init__(self,name, fname,age, height, qualification): # Methods\n",
    "        self.name = name\n",
    "        self.fname = fname\n",
    "        self.age= age\n",
    "        self.__height = height\n",
    "        self.__qualification = qualification\n",
    "        \n",
    "    def display(self):\n",
    "        \n",
    "    def sleeping(self, snooring= \"Khahaha!\"):\n",
    "        print(\"I am sleeping\"+str(snooring))\n",
    "        \n",
    "    def watching(self, watch=\"T.V\"):\n",
    "        print(\"I am watching\"+str(watch))\n",
    "        \n",
    "    def walking(self, speed=\"5KM/H\"):\n",
    "        print(speed)"
   ]
  },
  {
   "cell_type": "code",
   "execution_count": 34,
   "metadata": {},
   "outputs": [
    {
     "name": "stdout",
     "output_type": "stream",
     "text": [
      "total members: 1\n"
     ]
    }
   ],
   "source": [
    "obj4= Man('Vivek','vishan','24','5,6','B.E')"
   ]
  },
  {
   "cell_type": "code",
   "execution_count": 37,
   "metadata": {},
   "outputs": [
    {
     "ename": "AttributeError",
     "evalue": "'Man' object has no attribute 'age'",
     "output_type": "error",
     "traceback": [
      "\u001b[1;31m---------------------------------------------------------------------------\u001b[0m",
      "\u001b[1;31mAttributeError\u001b[0m                            Traceback (most recent call last)",
      "\u001b[1;32m<ipython-input-37-5d8bf5d473ab>\u001b[0m in \u001b[0;36m<module>\u001b[1;34m()\u001b[0m\n\u001b[1;32m----> 1\u001b[1;33m \u001b[0mobj1\u001b[0m\u001b[1;33m.\u001b[0m\u001b[0mage\u001b[0m\u001b[1;33m(\u001b[0m\u001b[1;33m)\u001b[0m\u001b[1;33m\u001b[0m\u001b[0m\n\u001b[0m",
      "\u001b[1;31mAttributeError\u001b[0m: 'Man' object has no attribute 'age'"
     ]
    }
   ],
   "source": [
    "obj1.age()"
   ]
  },
  {
   "cell_type": "code",
   "execution_count": null,
   "metadata": {},
   "outputs": [],
   "source": []
  }
 ],
 "metadata": {
  "kernelspec": {
   "display_name": "Python 3",
   "language": "python",
   "name": "python3"
  },
  "language_info": {
   "codemirror_mode": {
    "name": "ipython",
    "version": 3
   },
   "file_extension": ".py",
   "mimetype": "text/x-python",
   "name": "python",
   "nbconvert_exporter": "python",
   "pygments_lexer": "ipython3",
   "version": "3.6.4"
  }
 },
 "nbformat": 4,
 "nbformat_minor": 2
}
